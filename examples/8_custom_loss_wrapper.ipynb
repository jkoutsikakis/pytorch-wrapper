{
 "cells": [
  {
   "cell_type": "markdown",
   "metadata": {},
   "source": [
    "# Custom Loss Wrapper"
   ]
  },
  {
   "cell_type": "markdown",
   "metadata": {},
   "source": [
    "In this example we will see how we can create a custom loss_wrapper. This loss_wraper will calculate the sum of two losses."
   ]
  },
  {
   "cell_type": "markdown",
   "metadata": {},
   "source": [
    "#### Import Statements"
   ]
  },
  {
   "cell_type": "code",
   "execution_count": null,
   "metadata": {},
   "outputs": [],
   "source": [
    "from pytorch_wrapper.loss_wrappers import AbstractLossWrapper\n"
   ]
  },
  {
   "cell_type": "markdown",
   "metadata": {},
   "source": [
    "#### Loss Wrapper definition\n"
   ]
  },
  {
   "cell_type": "markdown",
   "metadata": {},
   "source": [
    "In order to create a custom loss wrapper we need to inherit from `pytorch_wrapper.loss_wrappers.AbstractLossWrapper` and implement the `calculate_loss` method. This method must take as input the output of the model, the current batch, the training_context, and the last activation and must return the resulted loss. This method will be called during\n",
    "training for each batch."
   ]
  },
  {
   "cell_type": "code",
   "execution_count": null,
   "metadata": {},
   "outputs": [],
   "source": [
    "class SumLossWrapper(AbstractLossWrapper):\n",
    "    def __init__(self, loss1, loss2, model_output_key=None, batch_target_key='target'):\n",
    "        super(SumLossWrapper, self).__init__()\n",
    "        self._loss1 = loss1\n",
    "        self._loss2 = loss2\n",
    "        self._model_output_key = model_output_key\n",
    "        self._batch_target_key = batch_target_key\n",
    "\n",
    "    def calculate_loss(self, output, batch, training_context, last_activation=None):\n",
    "        if self._model_output_key is not None:\n",
    "            output = output[self._model_output_key]\n",
    "\n",
    "        batch_targets = batch[self._batch_target_key].to(output.device)\n",
    "\n",
    "        return self._loss1(output, batch_targets) + self._loss2(output, batch_targets)\n"
   ]
  },
  {
   "cell_type": "markdown",
   "metadata": {},
   "source": [
    "Now we can create this loss wrapper and pass it to the `train` method of a `System` object."
   ]
  }
 ],
 "metadata": {
  "kernelspec": {
   "display_name": "Python 3",
   "language": "python",
   "name": "python3"
  },
  "language_info": {
   "codemirror_mode": {
    "name": "ipython",
    "version": 3
   },
   "file_extension": ".py",
   "mimetype": "text/x-python",
   "name": "python",
   "nbconvert_exporter": "python",
   "pygments_lexer": "ipython3",
   "version": "3.6.5"
  }
 },
 "nbformat": 4,
 "nbformat_minor": 2
}
