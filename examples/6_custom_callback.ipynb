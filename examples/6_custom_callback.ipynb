{
 "cells": [
  {
   "cell_type": "markdown",
   "metadata": {},
   "source": [
    "In this example we will create a custom callback that will log the weights and the gradients of the parameters using Tensorboard."
   ]
  },
  {
   "cell_type": "markdown",
   "metadata": {},
   "source": [
    "#### Import Statements"
   ]
  },
  {
   "cell_type": "markdown",
   "metadata": {},
   "source": [
    "#### Additional libraries\n",
    "\n",
    "First of all we need to install the `tensorflow` and `tensorboard` libraries in order to use Tensorboard."
   ]
  },
  {
   "cell_type": "code",
   "execution_count": null,
   "metadata": {},
   "outputs": [],
   "source": [
    "! pip install tensorflow\n",
    "! pip install tensorboard\n"
   ]
  },
  {
   "cell_type": "markdown",
   "metadata": {},
   "source": [
    "# Custom Callback (Tensorboard)"
   ]
  },
  {
   "cell_type": "code",
   "execution_count": null,
   "metadata": {},
   "outputs": [],
   "source": [
    "from torch.utils.tensorboard import SummaryWriter\n",
    "from pytorch_wrapper.training_callbacks import AbstractCallback\n"
   ]
  },
  {
   "cell_type": "markdown",
   "metadata": {},
   "source": [
    "#### CallBack definition"
   ]
  },
  {
   "cell_type": "markdown",
   "metadata": {},
   "source": [
    "PyTorchWrapper enables us to inject custom buisness logic in several places of the\n",
    "training process. In order to do that we need to create a Class that derives\n",
    "from `pytorch_wrapper.training_callbacks.AbstractCallback` and implement the \n",
    "appropriate method(s).\n",
    "\n",
    "The possible methods are the following:\n",
    "- on_training_start: Called at the beginning of the training process.\n",
    "- on_training_end: Called at the end of the training process.\n",
    "- on_evaluation_start: Called at the beginning of the evaluation step.\n",
    "- on_evaluation_end: Called at the end of the evaluation step.\n",
    "- on_epoch_start: Called at the beginning of a new epoch.\n",
    "- on_epoch_end: Called at the end of an epoch.\n",
    "- on_batch_start: Called just before processing a new batch.\n",
    "- on_batch_end: Called after a batch has been processed.\n",
    "- post_predict: Called just after prediction during training time.\n",
    "- post_loss_calculation: Called just after loss calculation.\n",
    "- post_backward_calculation: Called just after backward is called.\n",
    "- pre_optimization_step: Called just before the optimization step.\n"
   ]
  },
  {
   "cell_type": "code",
   "execution_count": null,
   "metadata": {},
   "outputs": [],
   "source": [
    "class TensorBoardCallBack(AbstractCallback):\n",
    "    def __init__(self, log_dir):\n",
    "        super(TensorBoardCallBack, self).__init__()\n",
    "        self.writer = SummaryWriter(log_dir=log_dir)\n",
    "        self.n_iter = 0\n",
    "        self.n_iter_real = 0\n",
    "\n",
    "    def pre_optimization_step(self, training_context):\n",
    "        \"\"\"\n",
    "        Called just before the optimization step.\n",
    "        :param training_context: Dict containing information regarding the training process.\n",
    "        \"\"\"\n",
    "\n",
    "        model = training_context['system'].model\n",
    "        self.n_iter_real += 1\n",
    "\n",
    "        if self.n_iter_real % 100 == 0:\n",
    "\n",
    "            self.n_iter += 1\n",
    "\n",
    "            for name, param in model.named_parameters():\n",
    "                if param.requires_grad:\n",
    "                    self.writer.add_histogram(name, param.detach().cpu().numpy(), self.n_iter)\n",
    "\n",
    "            for name, param in model.named_parameters():\n",
    "                if param.requires_grad:\n",
    "                    self.writer.add_histogram(name + '-grad', param.grad.detach().cpu().numpy(), self.n_iter)\n"
   ]
  },
  {
   "cell_type": "markdown",
   "metadata": {},
   "source": [
    "Now we can create this callback and pass it to the `train` method of a `System` object. After training you will be able \n",
    "navigate to the log_dir path and excecute `tensorboard` in order to see the histograms of the weights and gradients that where computed during training."
   ]
  }
 ],
 "metadata": {
  "kernelspec": {
   "display_name": "Python 3",
   "language": "python",
   "name": "python3"
  },
  "language_info": {
   "codemirror_mode": {
    "name": "ipython",
    "version": 3
   },
   "file_extension": ".py",
   "mimetype": "text/x-python",
   "name": "python",
   "nbconvert_exporter": "python",
   "pygments_lexer": "ipython3",
   "version": "3.6.5"
  }
 },
 "nbformat": 4,
 "nbformat_minor": 2
}
