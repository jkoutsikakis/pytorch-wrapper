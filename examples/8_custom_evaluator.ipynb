{
 "cells": [
  {
   "cell_type": "markdown",
   "metadata": {},
   "source": [
    "# Custom Evaluator (Manhattan Distance)"
   ]
  },
  {
   "cell_type": "markdown",
   "metadata": {},
   "source": [
    "In this example we will see how we can create a custom evaluator. This evaluator will calculate the Manhattan distance."
   ]
  },
  {
   "cell_type": "markdown",
   "metadata": {},
   "source": [
    "#### Import Statements"
   ]
  },
  {
   "cell_type": "code",
   "execution_count": null,
   "metadata": {},
   "outputs": [],
   "source": [
    "import numpy as np\n",
    "\n",
    "from pytorch_wrapper.evaluators import AbstractEvaluator, GenericEvaluatorResults\n"
   ]
  },
  {
   "cell_type": "markdown",
   "metadata": {},
   "source": [
    "#### Evaluator definition"
   ]
  },
  {
   "cell_type": "markdown",
   "metadata": {},
   "source": [
    "In order to create a custom evaluator we need to inherit from `pytorch_wrapper.evaluators.AbstractEvaluator` and implement the `reset`, `step`, and `calculate` methods. The `reset`  method is called at the begining of each epoch and in the begining of the `System`'s evaluate method and must reset the evaluator. The `step` method is called for each batch and must store the information needed for the calculation of the metric. Finally the `calculate` method must calculate the metric and return a `pytorch_wrapper.evaluators.GenericEvaluatorResults` object or any other subclass of `pytorch_wrapper.evaluators.AbstractEvaluatorResults`."
   ]
  },
  {
   "cell_type": "code",
   "execution_count": null,
   "metadata": {},
   "outputs": [],
   "source": [
    "class ManhattanDistanceEvaluator(AbstractEvaluator):\n",
    "    def __init__(self, model_output_key=None, batch_target_key='target'):\n",
    "        super(ManhattanDistanceEvaluator, self).__init__()\n",
    "        self._model_output_key = model_output_key\n",
    "        self._batch_target_key = batch_target_key\n",
    "        self.reset()\n",
    "\n",
    "    def reset(self):\n",
    "        self._outputs = []\n",
    "        self._targets = []\n",
    "\n",
    "    def step(self, output, batch, last_activation=None):\n",
    "        if self._model_output_key is not None:\n",
    "            output = output[self._model_output_key]\n",
    "\n",
    "        self._outputs.extend(output.tolist())\n",
    "        self._targets.extend(batch[self._batch_target_key].tolist())\n",
    "\n",
    "    def calculate(self):\n",
    "        mean_distance = np.sum(np.abs(np.array(self._outputs) - np.array(self._targets)))\n",
    "        return GenericEvaluatorResults(score=mean_distance,\n",
    "                                       label='manh-dist',\n",
    "                                       score_format='%f',\n",
    "                                       is_max_better=False)\n"
   ]
  }
 ],
 "metadata": {
  "kernelspec": {
   "display_name": "Python 3",
   "language": "python",
   "name": "python3"
  },
  "language_info": {
   "codemirror_mode": {
    "name": "ipython",
    "version": 3
   },
   "file_extension": ".py",
   "mimetype": "text/x-python",
   "name": "python",
   "nbconvert_exporter": "python",
   "pygments_lexer": "ipython3",
   "version": "3.6.5"
  }
 },
 "nbformat": 4,
 "nbformat_minor": 2
}
